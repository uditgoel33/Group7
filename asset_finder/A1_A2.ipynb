{
 "cells": [
  {
   "cell_type": "code",
   "execution_count": 1,
   "metadata": {},
   "outputs": [],
   "source": [
    "import pdfplumber # Go to https://github.com/jsvine/pdfplumber for installation instructions and explanation\n",
    "import numpy as np\n",
    "import pandas as pd\n",
    "import matplotlib.pyplot as plt\n",
    "import json\n",
    "import os"
   ]
  },
  {
   "cell_type": "code",
   "execution_count": 3,
   "metadata": {},
   "outputs": [],
   "source": [
    "# For making a reresentation of a symbol\n",
    "def create_symbol_sig(fp,idx, n_parts):\n",
    "    ppoint = find_distances(fp.curves[idx:idx+n_parts])\n",
    "    full_dict = {}\n",
    "    full_dict['distances'] = ppoint\n",
    "    full_dict['total_points'] = len(ppoint)\n",
    "    return full_dict"
   ]
  },
  {
   "cell_type": "code",
   "execution_count": 5,
   "metadata": {},
   "outputs": [],
   "source": [
    "#takes in two sets of coordinates and returns a floating point value\n",
    "def euc_dist(a, b):    \n",
    "    d = np.sqrt((a[0] - b[0])**2 + (a[1] - b[1])**2)\n",
    "    return float(d)\n",
    "\n",
    "# find the distance from the first point to all other points in the curve set and save them\n",
    "# accepts a list of coord tuples and returns a list of floating point values \n",
    "def find_distances(c_list):\n",
    "    d_list = []\n",
    "    base = c_list[0]['points'][0]\n",
    "    for c in c_list:\n",
    "        points = c['points']\n",
    "        for i in range(0, len(points)):\n",
    "            d_list.append(euc_dist(base, points[i]))\n",
    "        \n",
    "    return d_list\n",
    "\n",
    "# matches the template to the tested curves by using abs. differences\n",
    "# l1 will be the template and l2 the tested\n",
    "# accepts two lists and returns a list of values\n",
    "def compare_distances(l1, l2):\n",
    "    assert len(l1) == len(l2)\n",
    "    diff = []\n",
    "    for i in range(0, len(l1)):\n",
    "        diff.append(np.abs(l2[i] - l1[i]))\n",
    "    \n",
    "    return diff"
   ]
  },
  {
   "cell_type": "code",
   "execution_count": 6,
   "metadata": {},
   "outputs": [],
   "source": [
    "# functions for symbol matching\n",
    "\n",
    "def match_symbols(file, sym, idx):\n",
    "    # compare distances to get a difference val\n",
    "    # l1 and l2 are lists of equal size\n",
    "    l1 = sym['distances']\n",
    "    l2 = find_distances(file.curves[idx : idx + sym['components']]) \n",
    "    diff = compare_distances(l1, l2)\n",
    "    # discriminate base on that val \n",
    "    return diff\n",
    "\n",
    "# find the first point for those that match the symbol\n",
    "def get_matches(file, sym, tol = 1):\n",
    "    matches = {}\n",
    "    for i in range(0, len(file.curves) - sym['components']):\n",
    "        try:\n",
    "            scores = match_symbols(file, sym, i)\n",
    "        except:\n",
    "            print(\"out of range error for idx {}\".format(i))\n",
    "            print(len(file.curves[i]['pts']))\n",
    "            \n",
    "        # add the idx val if it is a match and skip, otherwise do next \n",
    "        if len(scores) > 0 and sum(scores) < tol:\n",
    "            matches[i] = scores\n",
    "            \n",
    "    return matches"
   ]
  },
  {
   "cell_type": "code",
   "execution_count": 8,
   "metadata": {},
   "outputs": [],
   "source": [
    "def get_max(symbols):\n",
    "    mx = 0\n",
    "    for s in symbols:\n",
    "        for n in symbols[s]:\n",
    "            if symbols[s][n]['components'] > mx:\n",
    "                mx = symbols[s][n]['components']\n",
    "    return mx"
   ]
  },
  {
   "cell_type": "code",
   "execution_count": 81,
   "metadata": {},
   "outputs": [],
   "source": [
    "# recieve an index val and the pdf file\n",
    "# return the mean x,y vals for the given curve\n",
    "def get_xy(key, file):\n",
    "    x = float(file.curves[key][\"x1\"] + file.curves[key][\"x0\"])/2\n",
    "    y = float(file.curves[key][\"y1\"] + file.curves[key][\"y0\"])/2\n",
    "    \n",
    "    return x, y\n",
    "\n",
    "# recieive a dictionary of the starting keys and the distance list for each match \n",
    "# output a table of schema <id, type, x, y, distances>\n",
    "def get_outputs(matches, a_type, file):\n",
    "    table = pd.DataFrame(columns = [\"id\", \"type\", \"x_coord\", \"y_coord\", \"total_diff\", \"mean_diff\", \"max_diff\"])\n",
    "    \n",
    "    for m in matches:\n",
    "        x, y = get_xy(m, file)\n",
    "        table = table.append({\"id\": m, \"type\": a_type, \"x_coord\": x, \"y_coord\": y, \"total_diff\": sum(matches[m]),\n",
    "                              \"mean_diff\": np.mean(matches[m]), \"max_diff\": np.max(matches[m])}, ignore_index = True)\n",
    "    return table"
   ]
  },
  {
   "cell_type": "code",
   "execution_count": 110,
   "metadata": {},
   "outputs": [],
   "source": [
    "# Loading in the outlets file\n",
    "with open(\"../symbols/symbols.json\", \"r\") as infile:\n",
    "    symbols = json.load(infile)\n"
   ]
  },
  {
   "cell_type": "code",
   "execution_count": 127,
   "metadata": {},
   "outputs": [
    {
     "name": "stdout",
     "output_type": "stream",
     "text": [
      "['A1492010025.pdf', 'A1492010029.pdf', 'DataSet', 'DC2782010014.pdf', 'E1102007016.pdf', 'E1102007020.pdf', 'E1422010011.pdf', 'E1422010014.pdf', 'E1602007002.pdf', 'E1662010012.pdf', 'E1662010013.pdf', 'E1712007005.pdf', 'E1712007007.pdf', 'E1712007010.pdf', 'E1822010019.pdf', 'E1822010022.pdf', 'E1892007005.pdf', 'E1892007007.pdf', 'full fp.pdf', 'PNG_Dataset', 'simple fp.pdf']\n"
     ]
    }
   ],
   "source": [
    "print(fps)"
   ]
  },
  {
   "cell_type": "code",
   "execution_count": 287,
   "metadata": {},
   "outputs": [],
   "source": [
    "#loading files\n",
    "path = r'../floor_plans/'\n",
    "fps = os.listdir(path)\n",
    "x = 16\n",
    "f = fps[x]\n",
    "file_1 = pdfplumber.open(path +f).pages[0]\n",
    "    \n",
    "# setting up the visualisation tool\n",
    "im = file_1.to_image(resolution = 144)"
   ]
  },
  {
   "cell_type": "code",
   "execution_count": 289,
   "metadata": {},
   "outputs": [
    {
     "name": "stdout",
     "output_type": "stream",
     "text": [
      "error on index 91130\n",
      "61\n"
     ]
    }
   ],
   "source": [
    "tol = 10\n",
    "tot_diffs = {}\n",
    "\n",
    "for c in range(0, len(file_1.curves)): #len(file_1.curves)\n",
    "    # get the total points for 1 to n sequential\n",
    "    diffs = {}\n",
    "\n",
    "    n_points = [len(file_1.curves[c]['pts'])]\n",
    "    try:\n",
    "        for i in range(1, get_max(symbols)):\n",
    "            n_points.append(n_points[i-1] + len(file_1.curves[c + i]['pts']))\n",
    "\n",
    "        for types in symbols:\n",
    "            for num in symbols[types]:\n",
    "                #check if the number of points for the components is matching\n",
    "                if n_points[symbols[types][num]['components']-1] == symbols[types][num]['total_points']:\n",
    "                    #run matching algorithm\n",
    "                    diffs[str(types + \"_\" + num)] = match_symbols(file = file_1, sym = symbols[types][num], idx = c)\n",
    "    \n",
    "    except:\n",
    "        print(\"error on index {}\".format(c))\n",
    "           \n",
    "    if len(diffs) > 0:\n",
    "        mn = sum(diffs[list(diffs.keys())[0]])\n",
    "        key = list(diffs.keys())[0]\n",
    "        \n",
    "        for i in range(1, len(diffs)):\n",
    "            if sum(diffs[list(diffs.keys())[i]]) < mn:\n",
    "                mn = sum(diffs[list(diffs.keys())[i]])\n",
    "                key = list(diffs.keys())[i]\n",
    "        \n",
    "        if mn < tol:\n",
    "            tot_diffs[c] = diffs[key]\n",
    "\n",
    "print(len(tot_diffs))"
   ]
  },
  {
   "cell_type": "code",
   "execution_count": null,
   "metadata": {
    "scrolled": true
   },
   "outputs": [],
   "source": [
    "# visualising on the floorplan\n",
    "im.reset()\n",
    "\n",
    "for r in tot_diffs:\n",
    "    if sum(tot_diffs[r]) / len(tot_diffs[r]) < 0.5:\n",
    "        im.draw_circle(file_1.curves[r], stroke='#66FF66', radius = 10)\n",
    "im"
   ]
  },
  {
   "cell_type": "code",
   "execution_count": null,
   "metadata": {
    "scrolled": true
   },
   "outputs": [],
   "source": [
    "tbl = get_outputs(tot_diffs, \"outlet\", file_1)\n",
    "tbl.head(5)"
   ]
  },
  {
   "cell_type": "code",
   "execution_count": null,
   "metadata": {
    "scrolled": true
   },
   "outputs": [],
   "source": [
    "#exporting table and saving in the outputs folder\n",
    "tbl.loc[tbl['mean_diff'] < 0.5].to_csv(r\"../outputs/{}_assets.csv\".format(x))"
   ]
  }
 ],
 "metadata": {
  "kernelspec": {
   "display_name": "Python 3",
   "language": "python",
   "name": "python3"
  },
  "language_info": {
   "codemirror_mode": {
    "name": "ipython",
    "version": 3
   },
   "file_extension": ".py",
   "mimetype": "text/x-python",
   "name": "python",
   "nbconvert_exporter": "python",
   "pygments_lexer": "ipython3",
   "version": "3.8.3"
  }
 },
 "nbformat": 4,
 "nbformat_minor": 2
}
